{
  "nbformat": 4,
  "nbformat_minor": 0,
  "metadata": {
    "colab": {
      "name": "SML_assn4_Q1.ipynb",
      "provenance": [],
      "collapsed_sections": []
    },
    "kernelspec": {
      "name": "python3",
      "display_name": "Python 3"
    },
    "language_info": {
      "name": "python"
    }
  },
  "cells": [
    {
      "cell_type": "code",
      "execution_count": 1,
      "metadata": {
        "id": "rfnx6mt_7Pa3"
      },
      "outputs": [],
      "source": [
        "import pandas as pd\n",
        "import numpy as np\n",
        "import matplotlib.pyplot as plt\n",
        "import matplotlib.image as img\n",
        "import os\n"
      ]
    },
    {
      "cell_type": "code",
      "source": [
        "os.chdir('/mnist')"
      ],
      "metadata": {
        "id": "_eJdHurT8Y22"
      },
      "execution_count": 2,
      "outputs": []
    },
    {
      "cell_type": "code",
      "source": [
        "!pip install idx2numpy"
      ],
      "metadata": {
        "colab": {
          "base_uri": "https://localhost:8080/"
        },
        "id": "f7IVxGJP8Ppj",
        "outputId": "6c00a630-0750-41df-dba2-0913cb1e9447"
      },
      "execution_count": 3,
      "outputs": [
        {
          "output_type": "stream",
          "name": "stdout",
          "text": [
            "Collecting idx2numpy\n",
            "  Downloading idx2numpy-1.2.3.tar.gz (6.8 kB)\n",
            "Requirement already satisfied: numpy in /usr/local/lib/python3.7/dist-packages (from idx2numpy) (1.21.6)\n",
            "Requirement already satisfied: six in /usr/local/lib/python3.7/dist-packages (from idx2numpy) (1.15.0)\n",
            "Building wheels for collected packages: idx2numpy\n",
            "  Building wheel for idx2numpy (setup.py) ... \u001b[?25l\u001b[?25hdone\n",
            "  Created wheel for idx2numpy: filename=idx2numpy-1.2.3-py3-none-any.whl size=7917 sha256=0c02bd5ea898b564c348bbd4445115a840914cc9525bb5cc21635eca929de21d\n",
            "  Stored in directory: /root/.cache/pip/wheels/1a/ce/ad/d5e95a35cfe34149aade5e500f2edd535c0566d79e9a8e1d8a\n",
            "Successfully built idx2numpy\n",
            "Installing collected packages: idx2numpy\n",
            "Successfully installed idx2numpy-1.2.3\n"
          ]
        }
      ]
    },
    {
      "cell_type": "code",
      "source": [
        "#Q1 MNSIT\n",
        "\n",
        "import idx2numpy\n",
        "file1 = 'train-images.idx3-ubyte'       #training set images\n",
        "file2 = 'train-labels.idx1-ubyte'       #training set labels\n",
        "file3 = 't10k-images.idx3-ubyte'        #test set images\n",
        "file4 = 't10k-labels.idx1-ubyte'        #test set labels\n",
        "\n",
        "train_data   = idx2numpy.convert_from_file(file1)   # train_data is a np.ndarray type of object of shape 60000, 28, 28\n",
        "train_label  = idx2numpy.convert_from_file(file2)\n",
        "test_data    = idx2numpy.convert_from_file(file3)\n",
        "test_label   = idx2numpy.convert_from_file(file4)\n"
      ],
      "metadata": {
        "id": "7v15xqLA8Qkn"
      },
      "execution_count": 5,
      "outputs": []
    },
    {
      "cell_type": "code",
      "source": [
        "train_data = train_data.reshape(len(train_data), 784)\n",
        "test_data = test_data.reshape(len(test_data), 784)"
      ],
      "metadata": {
        "id": "ceRCYe6m9wZM"
      },
      "execution_count": 6,
      "outputs": []
    },
    {
      "cell_type": "code",
      "source": [
        "from sklearn.tree import DecisionTreeRegressor\n",
        "\n",
        "alpha = 0.1                                   # learning rate\n",
        "y = np.mean(train_label)            # initial prediction is mean of labels\n",
        "tree_list = []                                # list of classifiers\n",
        "\n",
        "iteration = int(input(\"Enter the no. of regression trees you want to train the model on : \"))\n",
        "for i in range(iteration):\n",
        "  res = train_label - y                       # residual calculation\n",
        "  clf = DecisionTreeRegressor(max_depth=1)\n",
        "  clf.fit(train_data, res)\n",
        "  pred = clf.predict(train_data)\n",
        "  y = y + alpha*pred                          # update \n",
        "\n",
        "  tree_list.append(clf)                       # classifier i appended in list"
      ],
      "metadata": {
        "id": "baS0BeklfFP9",
        "colab": {
          "base_uri": "https://localhost:8080/"
        },
        "outputId": "02a09331-f822-467e-b8da-7b29993e4fcf"
      },
      "execution_count": 10,
      "outputs": [
        {
          "name": "stdout",
          "output_type": "stream",
          "text": [
            "Enter the no. of regression trees you want to train the model on : 10\n"
          ]
        }
      ]
    },
    {
      "cell_type": "code",
      "source": [
        "from sklearn.metrics import r2_score  # r2 score works well for regression tasks\n",
        "prediction_list = []                  # list of prediction of each classifier\n",
        "\n",
        "pred = np.mean(train_label)\n",
        "\n",
        "# loop runs for the total no. of classifiers in list \n",
        "for i in range(np.array(tree_list).shape[0]):     \n",
        "  prediction_list.append(tree_list[i].predict(test_data))\n",
        "  pred_arr = np.array(prediction_list)\n",
        "  pred +=  (alpha*pred_arr[i:i+1])\n",
        "\n",
        "pred = np.transpose(pred)\n",
        "score = r2_score(test_label, pred)\n",
        "print(score)"
      ],
      "metadata": {
        "colab": {
          "base_uri": "https://localhost:8080/"
        },
        "id": "THfPidgNTg36",
        "outputId": "c5df7a63-4b88-4d94-abeb-ffa1f1d2d09b"
      },
      "execution_count": 11,
      "outputs": [
        {
          "output_type": "stream",
          "name": "stdout",
          "text": [
            "0.2251639564822605\n"
          ]
        }
      ]
    }
  ]
}