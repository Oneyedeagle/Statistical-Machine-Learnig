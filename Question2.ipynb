{
  "nbformat": 4,
  "nbformat_minor": 0,
  "metadata": {
    "colab": {
      "name": "SML_assn3_Q2.ipynb",
      "provenance": []
    },
    "kernelspec": {
      "name": "python3",
      "display_name": "Python 3"
    },
    "language_info": {
      "name": "python"
    }
  },
  "cells": [
    {
      "cell_type": "code",
      "execution_count": 20,
      "metadata": {
        "colab": {
          "base_uri": "https://localhost:8080/"
        },
        "id": "RicHQ4e-RpuP",
        "outputId": "ad1e041a-6b02-44f9-9ba2-9429b8e4363f"
      },
      "outputs": [
        {
          "output_type": "stream",
          "name": "stdout",
          "text": [
            "Looking in indexes: https://pypi.org/simple, https://us-python.pkg.dev/colab-wheels/public/simple/\n",
            "Requirement already satisfied: idx2numpy in /usr/local/lib/python3.7/dist-packages (1.2.3)\n",
            "Requirement already satisfied: numpy in /usr/local/lib/python3.7/dist-packages (from idx2numpy) (1.21.6)\n",
            "Requirement already satisfied: six in /usr/local/lib/python3.7/dist-packages (from idx2numpy) (1.15.0)\n"
          ]
        }
      ],
      "source": [
        "!pip install idx2numpy  "
      ]
    },
    {
      "cell_type": "code",
      "source": [
        "# importing all teh necessary libraries\n",
        "import pandas as pd\n",
        "import numpy as np\n",
        "import matplotlib.pyplot as plt\n",
        "import os\n",
        "import idx2numpy"
      ],
      "metadata": {
        "id": "9IcKALgUSpsm"
      },
      "execution_count": 21,
      "outputs": []
    },
    {
      "cell_type": "code",
      "source": [
        "os.chdir('/dataset')"
      ],
      "metadata": {
        "id": "bFJnmDccVEQT"
      },
      "execution_count": 22,
      "outputs": []
    },
    {
      "cell_type": "code",
      "source": [
        "file1 = 'train-images.idx3-ubyte'       #training set images\n",
        "file2 = 'train-labels.idx1-ubyte'       #training set labels\n",
        "file3 = 't10k-images.idx3-ubyte'        #test set images\n",
        "file4 = 't10k-labels.idx1-ubyte'        #test set labels\n",
        "\n",
        "train_data   = idx2numpy.convert_from_file(file1)   \n",
        "train_label  = idx2numpy.convert_from_file(file2)\n",
        "test_data    = idx2numpy.convert_from_file(file3)\n",
        "test_label   = idx2numpy.convert_from_file(file4)\n"
      ],
      "metadata": {
        "id": "8NAYil_jRqy4"
      },
      "execution_count": 23,
      "outputs": []
    },
    {
      "cell_type": "code",
      "source": [
        "# Reshaping arrays\n",
        "train_data = train_data.reshape(len(train_data), 784)\n",
        "test_data = test_data.reshape(len(test_data), 784)"
      ],
      "metadata": {
        "id": "eY1f7hERRvZ5"
      },
      "execution_count": 24,
      "outputs": []
    },
    {
      "cell_type": "code",
      "source": [
        "from sklearn.decomposition import PCA\n",
        "from sklearn.discriminant_analysis import LinearDiscriminantAnalysis as LDA\n",
        "from sklearn.metrics import accuracy_score\n",
        "\n",
        "def pca_n(train_data, test_data, train_label, n):\n",
        "  pca_n = PCA(n_components = n)\n",
        "  lda_clf = LDA()\n",
        "\n",
        "  pca_n.fit(train_data)\n",
        "  pca_train = pca_n.transform(train_data)\n",
        "  pca_test = pca_n.transform(test_data)\n",
        "  lda_clf.fit(pca_train, train_label)\n",
        "\n",
        "  return lda_clf, pca_test"
      ],
      "metadata": {
        "id": "leAww7y7RxWE"
      },
      "execution_count": 25,
      "outputs": []
    },
    {
      "cell_type": "code",
      "source": [
        "predictions = []\n",
        "m = int(input(\"Enter the no. of components: \"))\n",
        "for i in range(m):\n",
        "  n = int(input(\"Enter the no. of dimensions: \"))\n",
        "  lda_clf_n, pca_test_n = pca_n(train_data, test_data, train_label, n)\n",
        "  pred_N = lda_clf_n.predict(pca_test_n)   #prediction of labels obtained for test set for 15 components(col)\n",
        "  predictions.append(pred_N)"
      ],
      "metadata": {
        "colab": {
          "base_uri": "https://localhost:8080/"
        },
        "id": "ZwDFHoH8WXgU",
        "outputId": "7205c2d3-f476-4173-fa82-d9f4df384a70"
      },
      "execution_count": 26,
      "outputs": [
        {
          "name": "stdout",
          "output_type": "stream",
          "text": [
            "Enter the no. of components: 3\n",
            "Enter the no. of dimensions: 20\n",
            "Enter the no. of dimensions: 10\n",
            "Enter the no. of dimensions: 5\n"
          ]
        }
      ]
    },
    {
      "cell_type": "code",
      "source": [
        "accuracy = []\n",
        "for i in range(m):  \n",
        "  acc = accuracy_score(test_label, predictions[i]) *100\n",
        "  accuracy.append(acc)\n",
        "\n",
        "print(\"Accuracy for PCA = 15:\", accuracy[0])\n",
        "print(\"Accuracy for PCA = 8:\", accuracy[1])\n",
        "print(\"Accuracy for PCA = 3:\", accuracy[2])"
      ],
      "metadata": {
        "colab": {
          "base_uri": "https://localhost:8080/"
        },
        "id": "avCVKZoNR6DH",
        "outputId": "5a9b9786-fa77-47d8-9cf7-07a97a7a5e73"
      },
      "execution_count": 27,
      "outputs": [
        {
          "output_type": "stream",
          "name": "stdout",
          "text": [
            "Accuracy for PCA=15: 84.59\n",
            "Accuracy for PCA=8: 77.47\n",
            "Accuracy for PCA=3: 66.49000000000001\n"
          ]
        }
      ]
    },
    {
      "cell_type": "code",
      "source": [
        "# Plotting bar diagram\n",
        "from matplotlib import style\n",
        "style.use(\"ggplot\")\n",
        "\n",
        "plt.bar([1], accuracy[0], color = \"blue\", label = \"Accuracy for PCA = 15 in %\")\n",
        "plt.bar([3], accuracy[1], color = \"red\", label = \"Accuracy for PCA = 8 in %\")\n",
        "plt.bar([5], accuracy[2], color = \"green\", label = \"Accuracy for PCA = 3 in %\")\n",
        "\n",
        "plt.title(\"Accuracy plot\")\n",
        "plt.xlabel(\"x-axis\")\n",
        "plt.ylabel(\"Accuracy (%)\")\n",
        "\n",
        "plt.xlim([-1, 7])\n",
        "plt.ylim([0, 100])\n",
        "plt.legend()\n",
        "plt.grid(True, color = \"black\")\n",
        "plt.show()"
      ],
      "metadata": {
        "colab": {
          "base_uri": "https://localhost:8080/",
          "height": 299
        },
        "id": "34wlkxwoR7kh",
        "outputId": "5006816d-0ccd-4d6a-d131-b4ac50f2d6ea"
      },
      "execution_count": 28,
      "outputs": [
        {
          "output_type": "display_data",
          "data": {
            "text/plain": [
              "<Figure size 432x288 with 1 Axes>"
            ],
            "image/png": "[encoded data removed]"
          },
          "metadata": {}
        }
      ]
    },
    {
      "cell_type": "markdown",
      "source": [
        "**OBSERVATIONS:**\n",
        "This question is done then mostly using inbuilt libraries like PCA and LDA, I\n",
        "observed for reduction to cols=15 we get the best accuracy as you can see in \n",
        "the bar diagrams, the reason being PCA < 15 is merging most of the important dimensions/columns into [1..8] or [1..3] dimensions which leads to \n",
        "loss of valuable data for learning parameters."
      ],
      "metadata": {
        "id": "Vk7uI_WXR_SW"
      }
    }
  ]
}