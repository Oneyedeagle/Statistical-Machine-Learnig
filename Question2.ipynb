{
  "nbformat": 4,
  "nbformat_minor": 0,
  "metadata": {
    "colab": {
      "name": "SML_Assn4_Q2.ipynb",
      "provenance": [],
      "collapsed_sections": []
    },
    "kernelspec": {
      "name": "python3",
      "display_name": "Python 3"
    },
    "language_info": {
      "name": "python"
    }
  },
  "cells": [
    {
      "cell_type": "code",
      "source": [
        "# Implementing Neaural network using Keras library"
      ],
      "metadata": {
        "id": "9aLPPA3U8YTu"
      },
      "execution_count": 1,
      "outputs": []
    },
    {
      "cell_type": "code",
      "execution_count": 2,
      "metadata": {
        "id": "byeKp8s8A6QS"
      },
      "outputs": [],
      "source": [
        "import pandas as pd\n",
        "import numpy as np\n",
        "import matplotlib.pyplot as plt\n",
        "import matplotlib.image as img\n",
        "from matplotlib import style\n",
        "style.use(\"ggplot\")\n",
        "import os"
      ]
    },
    {
      "cell_type": "code",
      "source": [
        "os.chdir('/fmnist')"
      ],
      "metadata": {
        "id": "q9KG6X88GQ7V"
      },
      "execution_count": 3,
      "outputs": []
    },
    {
      "cell_type": "code",
      "source": [
        "train_set = pd.read_csv('fashion-mnist_train.csv')\n",
        "test_set =  pd.read_csv('fashion-mnist_test.csv')\n",
        "\n",
        "train_label = train_set['label']\n",
        "test_label = test_set['label']"
      ],
      "metadata": {
        "id": "x_94M55JcL-Y"
      },
      "execution_count": 4,
      "outputs": []
    },
    {
      "cell_type": "code",
      "source": [
        "train_data = train_set.drop(['label'], axis=1)    #labels dropped\n",
        "test_data = test_set.drop(['label'], axis=1)      #labels dropped\n",
        "\n",
        "train_arr = np.array(train_data)  \n",
        "test_arr = np.array(test_data)   "
      ],
      "metadata": {
        "id": "q9EyvwlucY0G"
      },
      "execution_count": 6,
      "outputs": []
    },
    {
      "cell_type": "code",
      "source": [
        "# Normalising data (since max pixel value is 256 in grayscale)\n",
        "train_arr = train_arr/255.0\n",
        "test_arr = test_arr/255.0"
      ],
      "metadata": {
        "id": "HevB9FYJc-kl"
      },
      "execution_count": 7,
      "outputs": []
    },
    {
      "cell_type": "code",
      "source": [
        "test_arr"
      ],
      "metadata": {
        "colab": {
          "base_uri": "https://localhost:8080/"
        },
        "id": "wK6jYZ73ifUw",
        "outputId": "0d4d9629-c756-4c24-e24b-d8fad7a8546c"
      },
      "execution_count": null,
      "outputs": [
        {
          "output_type": "execute_result",
          "data": {
            "text/plain": [
              "array([[0.        , 0.        , 0.        , ..., 0.        , 0.        ,\n",
              "        0.        ],\n",
              "       [0.        , 0.        , 0.        , ..., 0.        , 0.        ,\n",
              "        0.        ],\n",
              "       [0.        , 0.        , 0.        , ..., 0.        , 0.        ,\n",
              "        0.        ],\n",
              "       ...,\n",
              "       [0.        , 0.        , 0.        , ..., 0.        , 0.00392157,\n",
              "        0.        ],\n",
              "       [0.        , 0.00392157, 0.01176471, ..., 0.        , 0.        ,\n",
              "        0.        ],\n",
              "       [0.        , 0.        , 0.        , ..., 0.        , 0.        ,\n",
              "        0.        ]])"
            ]
          },
          "metadata": {},
          "execution_count": 9
        }
      ]
    },
    {
      "cell_type": "code",
      "source": [
        "import tensorflow as tf \n",
        "from tensorflow.keras.optimizers import SGD "
      ],
      "metadata": {
        "id": "qdW_TqN3dVQ_"
      },
      "execution_count": 9,
      "outputs": []
    },
    {
      "cell_type": "code",
      "source": [
        "y = tf.keras.utils.to_categorical(train_label)\n",
        "y_test = tf.keras.utils.to_categorical(test_label)"
      ],
      "metadata": {
        "id": "9PvfMV54mTVZ"
      },
      "execution_count": 11,
      "outputs": []
    },
    {
      "cell_type": "code",
      "source": [
        "model = tf.keras.models.Sequential()  \n",
        "model.add(tf.keras.layers.Flatten())  \n",
        "model.add(tf.keras.layers.Dense(256, kernel_initializer='random_normal', activation=tf.nn.relu))  \n",
        "model.add(tf.keras.layers.Dense(128, kernel_initializer='random_normal', activation=tf.nn.relu))  \n",
        "model.add(tf.keras.layers.Dense(64, kernel_initializer='random_normal', activation=tf.nn.relu))  \n",
        "model.add(tf.keras.layers.Dense(10, activation=tf.nn.softmax))  \n",
        "\n",
        "opt = SGD(lr=0.1, momentum=0.12)    # learning rate is 0.1 \n",
        "\n",
        "model.compile(optimizer= opt, loss='categorical_crossentropy', metrics=['accuracy'])  \n",
        "\n",
        "history = model.fit(train_arr, y, epochs=15, batch_size=40)  # tunable parameters"
      ],
      "metadata": {
        "colab": {
          "base_uri": "https://localhost:8080/"
        },
        "id": "J3kro9S1dgko",
        "outputId": "22fed8a2-d00e-4a2a-e9f1-5d24e024b1a0"
      },
      "execution_count": 12,
      "outputs": [
        {
          "output_type": "stream",
          "name": "stderr",
          "text": [
            "/usr/local/lib/python3.7/dist-packages/keras/optimizer_v2/gradient_descent.py:102: UserWarning: The `lr` argument is deprecated, use `learning_rate` instead.\n",
            "  super(SGD, self).__init__(name, **kwargs)\n"
          ]
        },
        {
          "output_type": "stream",
          "name": "stdout",
          "text": [
            "Epoch 1/15\n",
            "1500/1500 [==============================] - 11s 6ms/step - loss: 0.5700 - accuracy: 0.7940\n",
            "Epoch 2/15\n",
            "1500/1500 [==============================] - 10s 7ms/step - loss: 0.3980 - accuracy: 0.8522\n",
            "Epoch 3/15\n",
            "1500/1500 [==============================] - 7s 4ms/step - loss: 0.3523 - accuracy: 0.8698\n",
            "Epoch 4/15\n",
            "1500/1500 [==============================] - 5s 3ms/step - loss: 0.3303 - accuracy: 0.8767\n",
            "Epoch 5/15\n",
            "1500/1500 [==============================] - 5s 3ms/step - loss: 0.3092 - accuracy: 0.8840\n",
            "Epoch 6/15\n",
            "1500/1500 [==============================] - 5s 3ms/step - loss: 0.2902 - accuracy: 0.8907\n",
            "Epoch 7/15\n",
            "1500/1500 [==============================] - 5s 3ms/step - loss: 0.2790 - accuracy: 0.8949\n",
            "Epoch 8/15\n",
            "1500/1500 [==============================] - 5s 3ms/step - loss: 0.2676 - accuracy: 0.8978\n",
            "Epoch 9/15\n",
            "1500/1500 [==============================] - 5s 3ms/step - loss: 0.2565 - accuracy: 0.9033\n",
            "Epoch 10/15\n",
            "1500/1500 [==============================] - 5s 3ms/step - loss: 0.2476 - accuracy: 0.9066\n",
            "Epoch 11/15\n",
            "1500/1500 [==============================] - 5s 3ms/step - loss: 0.2390 - accuracy: 0.9101\n",
            "Epoch 12/15\n",
            "1500/1500 [==============================] - 5s 4ms/step - loss: 0.2275 - accuracy: 0.9137\n",
            "Epoch 13/15\n",
            "1500/1500 [==============================] - 5s 3ms/step - loss: 0.2232 - accuracy: 0.9153\n",
            "Epoch 14/15\n",
            "1500/1500 [==============================] - 5s 3ms/step - loss: 0.2154 - accuracy: 0.9191\n",
            "Epoch 15/15\n",
            "1500/1500 [==============================] - 5s 3ms/step - loss: 0.2089 - accuracy: 0.9209\n"
          ]
        }
      ]
    },
    {
      "cell_type": "code",
      "source": [
        "# Plotting Loss vs Epoch\n",
        "plt.plot(history.history['loss'])\n",
        "plt.title('Loss vs epoch')\n",
        "plt.ylabel('Training Loss')\n",
        "plt.xlabel('epoch')\n",
        "plt.show()"
      ],
      "metadata": {
        "colab": {
          "base_uri": "https://localhost:8080/",
          "height": 299
        },
        "id": "YLxYdD7nZCu_",
        "outputId": "ebaa688a-0c60-4300-9469-707006a961d8"
      },
      "execution_count": 13,
      "outputs": [
        {
          "output_type": "display_data",
          "data": {
            "text/plain": [
              "<Figure size 432x288 with 1 Axes>"
            ],
            "image/png": "[encoded data removed]"
          },
          "metadata": {}
        }
      ]
    },
    {
      "cell_type": "code",
      "source": [
        "val_loss, val_acc = model.evaluate(test_arr, y_test)  # evaluate the out of sample data with model\n",
        "print(val_loss)  # model's loss (error)\n",
        "print(val_acc)  # model's accuracy"
      ],
      "metadata": {
        "colab": {
          "base_uri": "https://localhost:8080/"
        },
        "id": "p4LY4ZE5dx2x",
        "outputId": "08f59608-1e51-439f-cd94-54815cc406e3"
      },
      "execution_count": 14,
      "outputs": [
        {
          "output_type": "stream",
          "name": "stdout",
          "text": [
            "313/313 [==============================] - 1s 2ms/step - loss: 0.3018 - accuracy: 0.8950\n",
            "0.3017536699771881\n",
            "0.8949999809265137\n"
          ]
        }
      ]
    },
    {
      "cell_type": "code",
      "source": [
        "#class-wise accuracy\n",
        "\n",
        "def get_cwa(test_label, test_arr):\n",
        "\n",
        "  predictions = (np.round(model.predict(test_arr)))\n",
        "  y_pred = []\n",
        "\n",
        "  for i in range(np.shape(predictions)[0]):\n",
        "    flag=0\n",
        "    y_pred.append(list(predictions[i]).index(max(list(predictions[i]))))\n",
        " \n",
        "  cl_wise_accuracy = []\n",
        "  for i in range(10):   # 10 : because 10 classes are available so loop runs for 10 classes \n",
        "    count = 0\n",
        "    total = 0\n",
        "\n",
        "    for j in range(test_label.shape[0]):\n",
        "      if(test_label[j]==i):\n",
        "        total += 1\n",
        "        count += y_pred[j]==test_label[j]   # if prediction is true the count is increased\n",
        "\n",
        "    cl_wise_accuracy.append(count/total)    # no. of predictions true / total data\n",
        "\n",
        "  cl_wise_accuracy = np.array(cl_wise_accuracy)\n",
        "  return cl_wise_accuracy"
      ],
      "metadata": {
        "id": "UyQgO9jfIAvx"
      },
      "execution_count": 15,
      "outputs": []
    },
    {
      "cell_type": "code",
      "source": [
        "cl = get_cwa(test_label, test_arr)\n",
        "for i in range(len(cl)):\n",
        "  print(\"Accuracy of class\", i, \"is: \", cl[i])"
      ],
      "metadata": {
        "colab": {
          "base_uri": "https://localhost:8080/"
        },
        "id": "Ya5CrzsV95xY",
        "outputId": "0f6d1363-be1e-4b31-f482-5bc9c9215cfa"
      },
      "execution_count": 18,
      "outputs": [
        {
          "output_type": "stream",
          "name": "stdout",
          "text": [
            "Accuracy of class 0 is:  0.819\n",
            "Accuracy of class 1 is:  0.981\n",
            "Accuracy of class 2 is:  0.744\n",
            "Accuracy of class 3 is:  0.855\n",
            "Accuracy of class 4 is:  0.869\n",
            "Accuracy of class 5 is:  0.951\n",
            "Accuracy of class 6 is:  0.772\n",
            "Accuracy of class 7 is:  0.949\n",
            "Accuracy of class 8 is:  0.981\n",
            "Accuracy of class 9 is:  0.964\n"
          ]
        }
      ]
    }
  ]
}