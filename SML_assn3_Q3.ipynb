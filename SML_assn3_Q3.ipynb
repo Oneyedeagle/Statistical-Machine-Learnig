{
  "nbformat": 4,
  "nbformat_minor": 0,
  "metadata": {
    "colab": {
      "name": "SML_assn3_Q3.ipynb",
      "provenance": [],
      "collapsed_sections": []
    },
    "kernelspec": {
      "name": "python3",
      "display_name": "Python 3"
    },
    "language_info": {
      "name": "python"
    }
  },
  "cells": [
    {
      "cell_type": "markdown",
      "source": [
        "\n",
        "\n",
        "\n",
        "\n",
        "\n",
        "Implementation of Fischer's Dicriminant Analysis from scratch for dimensionality reduction and applying LDA from sklearn for multi-class classification\n",
        "\n",
        "\n"
      ],
      "metadata": {
        "id": "PWqoSXpCgcoy"
      }
    },
    {
      "cell_type": "code",
      "execution_count": null,
      "metadata": {
        "id": "OzDE-CoZE0qe"
      },
      "outputs": [],
      "source": [
        "\n",
        "import pandas as pd\n",
        "import numpy as np\n",
        "import matplotlib.pyplot as plt\n",
        "from matplotlib import style\n",
        "style.use(\"ggplot\")\n",
        "import os\n"
      ]
    },
    {
      "cell_type": "code",
      "source": [
        "os.chdir('/fmnist')   #changing directory"
      ],
      "metadata": {
        "id": "qwgL7lasSxMB"
      },
      "execution_count": null,
      "outputs": []
    },
    {
      "cell_type": "code",
      "source": [
        "train_set = pd.read_csv('fashion-mnist_train.csv')\n",
        "test_set =  pd.read_csv('fashion-mnist_test.csv')"
      ],
      "metadata": {
        "id": "KwhMXeWOeCwH"
      },
      "execution_count": null,
      "outputs": []
    },
    {
      "cell_type": "code",
      "source": [
        "# Saving the labels\n",
        "train_label = train_set['label']    \n",
        "test_label = test_set['label']"
      ],
      "metadata": {
        "id": "dsMoBpFEgHnl"
      },
      "execution_count": null,
      "outputs": []
    },
    {
      "cell_type": "code",
      "source": [
        "train_data = train_set.drop(['label'], axis=1)   #labels dropped\n",
        "test_data = test_set.drop(['label'], axis=1)   #labels dropped\n"
      ],
      "metadata": {
        "id": "XQ5IutVyUhJ3"
      },
      "execution_count": null,
      "outputs": []
    },
    {
      "cell_type": "code",
      "source": [
        "print(train_label.shape)"
      ],
      "metadata": {
        "colab": {
          "base_uri": "https://localhost:8080/"
        },
        "id": "rsEPO8RmJYuq",
        "outputId": "54bc5465-1f42-4dd3-ef89-66f52d2dc814"
      },
      "execution_count": null,
      "outputs": [
        {
          "output_type": "stream",
          "name": "stdout",
          "text": [
            "(60000,)\n"
          ]
        }
      ]
    },
    {
      "cell_type": "code",
      "source": [
        "# converting pandas dataframe to numpy arrays\n",
        "train_arr = np.array(train_data)\n",
        "test_arr = np.array(test_data)\n",
        "train_label_arr = np.array(train_label)\n",
        "test_label_arr = np.array(test_label)"
      ],
      "metadata": {
        "id": "dUCD3wiwgdpW"
      },
      "execution_count": null,
      "outputs": []
    },
    {
      "cell_type": "code",
      "source": [
        "train_arr.shape"
      ],
      "metadata": {
        "colab": {
          "base_uri": "https://localhost:8080/"
        },
        "id": "h2NdZl5SR0ZB",
        "outputId": "79d18a2b-b005-40e9-8d25-9904d58b6268"
      },
      "execution_count": null,
      "outputs": [
        {
          "output_type": "execute_result",
          "data": {
            "text/plain": [
              "(60000, 784)"
            ]
          },
          "metadata": {},
          "execution_count": 21
        }
      ]
    },
    {
      "cell_type": "code",
      "source": [
        "def get_W(train_arr, train_label):\n",
        "\n",
        "  class_n = []\n",
        "\n",
        "  Sw = 0\n",
        "  for j in range(10):\n",
        "    class_n = []\n",
        "    for i in range(len(train_arr)):\n",
        "      # class_1 = list(class_1)\n",
        "      if(train_label[i]==j):\n",
        "        class_n.append(train_arr[i])\n",
        "\n",
        "    class_n = np.array(class_n)\n",
        "    mean_row_cln = np.mean(class_n, axis=0)\n",
        "    mean_arr_cln = class_n - mean_row_cln\n",
        "    sn = np.dot(np.transpose(mean_arr_cln), mean_arr_cln)\n",
        "    Sw += sn\n",
        "\n",
        "  X = train_arr-np.mean(train_arr, axis=0)\n",
        "  St = np.dot(np.transpose(X), X)\n",
        "\n",
        "  Sb = St-Sw \n",
        "\n",
        "  eigenval, eigenvec = np.linalg.eig(np.dot(np.linalg.inv(Sw), Sb))\n",
        "  W = eigenvec[:, :9]\n",
        "\n",
        "  return W"
      ],
      "metadata": {
        "id": "XBw94aoFpJ-B"
      },
      "execution_count": null,
      "outputs": []
    },
    {
      "cell_type": "code",
      "source": [
        "W = get_W(train_arr, train_label)"
      ],
      "metadata": {
        "id": "gcxkXC_7lR4F"
      },
      "execution_count": null,
      "outputs": []
    },
    {
      "cell_type": "code",
      "source": [
        "Y = np.real(np.dot(train_arr, W))     # Projection of training data on Y using W projection"
      ],
      "metadata": {
        "id": "GsLjh4CGc4mB"
      },
      "execution_count": null,
      "outputs": []
    },
    {
      "cell_type": "code",
      "source": [
        "Y2 = np.real(np.dot(test_arr, W))     # Projection of testing data on Y2 using W projection"
      ],
      "metadata": {
        "id": "ghbO_5hSd741"
      },
      "execution_count": null,
      "outputs": []
    },
    {
      "cell_type": "code",
      "source": [
        "print(W.shape)\n",
        "print(Y.shape)\n",
        "print(Y2.shape)"
      ],
      "metadata": {
        "colab": {
          "base_uri": "https://localhost:8080/"
        },
        "id": "MdWgt4DCejMR",
        "outputId": "998a2ea1-3991-416d-cd7c-b38213735d60"
      },
      "execution_count": null,
      "outputs": [
        {
          "output_type": "stream",
          "name": "stdout",
          "text": [
            "(784, 9)\n",
            "(60000, 9)\n",
            "(10000, 9)\n"
          ]
        }
      ]
    },
    {
      "cell_type": "code",
      "source": [
        "# for classification\n",
        "\n",
        "from sklearn.discriminant_analysis import LinearDiscriminantAnalysis as LDA\n",
        "clf = LDA()\n",
        "clf.fit(Y, train_label)     # fitting the reduced training set with the labels\n"
      ],
      "metadata": {
        "colab": {
          "base_uri": "https://localhost:8080/"
        },
        "id": "b60seWqj89_6",
        "outputId": "613b3e43-0b71-4c20-f609-7312df50178b"
      },
      "execution_count": null,
      "outputs": [
        {
          "output_type": "execute_result",
          "data": {
            "text/plain": [
              "LinearDiscriminantAnalysis()"
            ]
          },
          "metadata": {},
          "execution_count": 37
        }
      ]
    },
    {
      "cell_type": "code",
      "source": [
        "pred_FDA = clf.predict(Y2)\n",
        "print(pred_FDA)"
      ],
      "metadata": {
        "colab": {
          "base_uri": "https://localhost:8080/"
        },
        "id": "YCNqUmML9e1n",
        "outputId": "04f6bf10-4569-4dbf-d6a3-9ec0efeb505e"
      },
      "execution_count": null,
      "outputs": [
        {
          "output_type": "stream",
          "name": "stdout",
          "text": [
            "[0 1 2 ... 8 6 2]\n"
          ]
        }
      ]
    },
    {
      "cell_type": "code",
      "source": [
        "from sklearn.metrics import accuracy_score\n",
        "score_LF= accuracy_score(test_label, pred_FDA) * 100\n",
        "print(score_LF)\n"
      ],
      "metadata": {
        "colab": {
          "base_uri": "https://localhost:8080/"
        },
        "id": "QS7rjTGz9y6h",
        "outputId": "2cabbefb-87f0-4307-808d-1c69f847a23e"
      },
      "execution_count": null,
      "outputs": [
        {
          "output_type": "stream",
          "name": "stdout",
          "text": [
            "82.56\n"
          ]
        }
      ]
    },
    {
      "cell_type": "code",
      "source": [
        "# for class-wise accuracy \n",
        "def get_classwise_acc(test_label, pred_FDA):\n",
        "\n",
        "  clx_count = np.zeros([1, 10])\n",
        "  clx_acc = np.zeros([1, 10])\n",
        "\n",
        "  for j in range(10):\n",
        "    for i in range(len(test_label)):\n",
        "      if(test_label[i]==j and pred_FDA[i]==j):\n",
        "        clx_count[0][j]+=1\n",
        "    clx_acc[0][j] = (clx_count[0][j]/np.where(test_label==j)[0].shape[0])*100\n",
        "\n",
        "  print(\"Class-wise accuracy: \")\n",
        "  for i in range(10):\n",
        "    print(\"Class\", i, \"accuracy: \", clx_acc[0][i], \"%\")\n",
        "  \n",
        "  return clx_acc\n"
      ],
      "metadata": {
        "id": "xaOAyCyYMAt7"
      },
      "execution_count": null,
      "outputs": []
    },
    {
      "cell_type": "code",
      "source": [
        "acc_all = get_classwise_acc(test_label, pred_FDA)"
      ],
      "metadata": {
        "id": "GBPqCMTCMGH5",
        "colab": {
          "base_uri": "https://localhost:8080/"
        },
        "outputId": "701d9fc4-d218-4065-d81a-b6e76553750d"
      },
      "execution_count": null,
      "outputs": [
        {
          "output_type": "stream",
          "name": "stdout",
          "text": [
            "Class-wise accuracy: \n",
            "Class 0 accuracy:  76.8 %\n",
            "Class 1 accuracy:  94.0 %\n",
            "Class 2 accuracy:  71.5 %\n",
            "Class 3 accuracy:  87.1 %\n",
            "Class 4 accuracy:  78.8 %\n",
            "Class 5 accuracy:  89.0 %\n",
            "Class 6 accuracy:  60.5 %\n",
            "Class 7 accuracy:  85.5 %\n",
            "Class 8 accuracy:  91.60000000000001 %\n",
            "Class 9 accuracy:  90.8 %\n"
          ]
        }
      ]
    }
  ]
}